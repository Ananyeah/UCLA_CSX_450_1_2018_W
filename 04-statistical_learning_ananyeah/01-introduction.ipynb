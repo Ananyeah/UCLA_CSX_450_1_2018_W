{
 "cells": [
  {
   "cell_type": "markdown",
   "metadata": {
    "collapsed": true
   },
   "source": [
    "This notebook accompanies *An Introduction to Statistical Learning*, Chapter 1. This text is available as a free pdf [here](http://www-bcf.usc.edu/~gareth/ISL/). \n",
    "\n",
    "<img src=\"http://www-bcf.usc.edu/~gareth/ISL/ISL%20Cover%202.jpg\" width=250px>"
   ]
  },
  {
   "cell_type": "markdown",
   "metadata": {},
   "source": [
    "# An Introduction to Statistical Learning"
   ]
  },
  {
   "cell_type": "markdown",
   "metadata": {},
   "source": [
    "## Chapter 1 - Introduction"
   ]
  },
  {
   "cell_type": "markdown",
   "metadata": {},
   "source": [
    "**Statistical Learning** refers to a vast set of tools for **understanding data**. "
   ]
  },
  {
   "cell_type": "markdown",
   "metadata": {},
   "source": [
    "These tools can be classified as **supervised** or **unsupervised**. \n",
    "\n",
    "Broadly speaking, supervised statistical learning involves building a statistical model for predicting, or estimating, an output based on one or more inputs. \n",
    "\n",
    "With unsupervised statistical learning, there are inputs but no supervising output."
   ]
  },
  {
   "cell_type": "markdown",
   "metadata": {},
   "source": [
    "## Wage Data\n",
    "\n",
    "#### Domain \n",
    "\n",
    "This problem is drawn from the analysis of population demographic data. \n",
    "\n",
    "#### Problem Statement\n",
    "\n",
    "Given certain information about males from the United States, we will use supervised learning to develop a regression model that can predict a member of the population's wage.\n",
    "\n",
    "We examine a number of factors that relate to wages for a group of males from the Atlantic region of the United States. \n",
    "\n",
    "In particular, we wish to understand the association between an employee’s `age` and `education`, as well as the calendar `year`, on his `wage`.\n",
    "\n",
    "#### Dataset and Inputs\n",
    "\n",
    "The dataset to be examined contains survey information from the central Atlantic region of the United States. \n",
    "\n",
    "#### Solution Statement\n",
    "\n",
    "A solution to this problem will be a regression model such as a linear regression, a decision tree regressor, or a support vector regressor. \n",
    "\n",
    "#### Benchmark Model\n",
    "\n",
    "Given that we seek a regression model a good naive benchmark would be to use either the mean or the median of the wages for the dataset. \n",
    "\n",
    "#### Evaluation Metrics\n",
    "\n",
    "Given that this is a regression task, we can measure the success of our model using the $R^2$ metric, the Mean Absolute Error, or the Mean Square Error.\n"
   ]
  },
  {
   "cell_type": "code",
   "execution_count": 3,
   "metadata": {},
   "outputs": [],
   "source": [
    "import matplotlib.pyplot as plt\n",
    "import numpy as np\n",
    "import pandas as pd\n",
    "import seaborn as sns\n",
    "%matplotlib inline"
   ]
  },
  {
   "cell_type": "code",
   "execution_count": 7,
   "metadata": {},
   "outputs": [
    {
     "data": {
      "text/html": [
       "<div>\n",
       "<table border=\"1\" class=\"dataframe\">\n",
       "  <thead>\n",
       "    <tr style=\"text-align: right;\">\n",
       "      <th></th>\n",
       "      <th>Unnamed: 0</th>\n",
       "      <th>year</th>\n",
       "      <th>age</th>\n",
       "      <th>sex</th>\n",
       "      <th>maritl</th>\n",
       "      <th>race</th>\n",
       "      <th>education</th>\n",
       "      <th>region</th>\n",
       "      <th>jobclass</th>\n",
       "      <th>health</th>\n",
       "      <th>health_ins</th>\n",
       "      <th>logwage</th>\n",
       "      <th>wage</th>\n",
       "    </tr>\n",
       "  </thead>\n",
       "  <tbody>\n",
       "    <tr>\n",
       "      <th>2323</th>\n",
       "      <td>84662</td>\n",
       "      <td>2004</td>\n",
       "      <td>46</td>\n",
       "      <td>1. Male</td>\n",
       "      <td>2. Married</td>\n",
       "      <td>1. White</td>\n",
       "      <td>2. HS Grad</td>\n",
       "      <td>2. Middle Atlantic</td>\n",
       "      <td>1. Industrial</td>\n",
       "      <td>2. &gt;=Very Good</td>\n",
       "      <td>2. No</td>\n",
       "      <td>4.477121</td>\n",
       "      <td>87.981033</td>\n",
       "    </tr>\n",
       "    <tr>\n",
       "      <th>2944</th>\n",
       "      <td>80262</td>\n",
       "      <td>2004</td>\n",
       "      <td>42</td>\n",
       "      <td>1. Male</td>\n",
       "      <td>2. Married</td>\n",
       "      <td>1. White</td>\n",
       "      <td>4. College Grad</td>\n",
       "      <td>2. Middle Atlantic</td>\n",
       "      <td>2. Information</td>\n",
       "      <td>2. &gt;=Very Good</td>\n",
       "      <td>1. Yes</td>\n",
       "      <td>4.643453</td>\n",
       "      <td>103.902471</td>\n",
       "    </tr>\n",
       "    <tr>\n",
       "      <th>2248</th>\n",
       "      <td>374341</td>\n",
       "      <td>2008</td>\n",
       "      <td>32</td>\n",
       "      <td>1. Male</td>\n",
       "      <td>2. Married</td>\n",
       "      <td>1. White</td>\n",
       "      <td>2. HS Grad</td>\n",
       "      <td>2. Middle Atlantic</td>\n",
       "      <td>2. Information</td>\n",
       "      <td>1. &lt;=Good</td>\n",
       "      <td>2. No</td>\n",
       "      <td>4.301030</td>\n",
       "      <td>73.775743</td>\n",
       "    </tr>\n",
       "    <tr>\n",
       "      <th>532</th>\n",
       "      <td>453542</td>\n",
       "      <td>2009</td>\n",
       "      <td>47</td>\n",
       "      <td>1. Male</td>\n",
       "      <td>2. Married</td>\n",
       "      <td>1. White</td>\n",
       "      <td>4. College Grad</td>\n",
       "      <td>2. Middle Atlantic</td>\n",
       "      <td>1. Industrial</td>\n",
       "      <td>1. &lt;=Good</td>\n",
       "      <td>1. Yes</td>\n",
       "      <td>4.698970</td>\n",
       "      <td>109.833986</td>\n",
       "    </tr>\n",
       "  </tbody>\n",
       "</table>\n",
       "</div>"
      ],
      "text/plain": [
       "      Unnamed: 0  year  age      sex      maritl      race        education  \\\n",
       "2323       84662  2004   46  1. Male  2. Married  1. White       2. HS Grad   \n",
       "2944       80262  2004   42  1. Male  2. Married  1. White  4. College Grad   \n",
       "2248      374341  2008   32  1. Male  2. Married  1. White       2. HS Grad   \n",
       "532       453542  2009   47  1. Male  2. Married  1. White  4. College Grad   \n",
       "\n",
       "                  region        jobclass          health health_ins   logwage  \\\n",
       "2323  2. Middle Atlantic   1. Industrial  2. >=Very Good      2. No  4.477121   \n",
       "2944  2. Middle Atlantic  2. Information  2. >=Very Good     1. Yes  4.643453   \n",
       "2248  2. Middle Atlantic  2. Information       1. <=Good      2. No  4.301030   \n",
       "532   2. Middle Atlantic   1. Industrial       1. <=Good     1. Yes  4.698970   \n",
       "\n",
       "            wage  \n",
       "2323   87.981033  \n",
       "2944  103.902471  \n",
       "2248   73.775743  \n",
       "532   109.833986  "
      ]
     },
     "execution_count": 7,
     "metadata": {},
     "output_type": "execute_result"
    }
   ],
   "source": [
    "wage_df = pd.read_csv('data/Wage.csv')\n",
    "wage_df.sample(4)"
   ]
  },
  {
   "cell_type": "code",
   "execution_count": 8,
   "metadata": {},
   "outputs": [
    {
     "name": "stdout",
     "output_type": "stream",
     "text": [
      "Figure 1.1\n"
     ]
    },
    {
     "data": {
      "image/png": "[encoded data removed]",
      "text/plain": [
       "<matplotlib.figure.Figure at 0x7ff5f7903438>"
      ]
     },
     "metadata": {},
     "output_type": "display_data"
    }
   ],
   "source": [
    "fig = plt.figure(figsize=(20,4))\n",
    "\n",
    "fig.add_subplot(131)\n",
    "sns.regplot(x='age', y='wage', data=wage_df, order=5)\n",
    "\n",
    "fig.add_subplot(132)\n",
    "sns.regplot(x='year', y='wage', data=wage_df)\n",
    "\n",
    "fig.add_subplot(133)\n",
    "wage_df['education_int'] = wage_df['education'].str.extract('(\\d)', expand=False).astype(int)\n",
    "education_labels = wage_df['education'].unique()\n",
    "education_labels.sort()\n",
    "sns.boxplot(x='education_int', y='wage', data=wage_df)\n",
    "plt.xticks(np.arange(len(education_labels)),education_labels, rotation='vertical')\n",
    "\n",
    "print(\"Figure 1.1\")"
   ]
  },
  {
   "cell_type": "markdown",
   "metadata": {},
   "source": [
    "## Stock Market Data"
   ]
  },
  {
   "cell_type": "markdown",
   "metadata": {},
   "source": [
    "#### Domain \n",
    "\n",
    "This problem is drawn from the analysis of stock market performance. \n",
    "\n",
    "#### Problem Statement\n",
    "\n",
    "For a single stock, given knowledge about the previous days' change, we will use supervised learning to develop a classification model to predict whether the stock will increase or decrese in the next day.\n",
    "\n",
    "#### Dataset and Inputs\n",
    "\n",
    "The dataset to be examined contains the year, the change for the five previous days, the trading volume, the day's change, and a categorical variable describing whether the stock rose or fell on that day. This is for a single stock from 2001 to 2005.\n",
    "\n",
    "#### Solution Statement\n",
    "\n",
    "A solution to this problem will be a classification model such as a logistic regression, a decision tree classfier, or a support vector classifier. \n",
    "\n",
    "#### Benchmark Model\n",
    "\n",
    "Given that we seek a classification model a good naive benchmark would be to guess the most common class.\n",
    "\n",
    "#### Evaluation Metrics\n",
    "\n",
    "Given that this is a classification task, and there is a slight imbalance in our dataset (more Up than Down), we can measure the success of our model using the F1 Score.\n",
    "\n"
   ]
  },
  {
   "cell_type": "code",
   "execution_count": null,
   "metadata": {},
   "outputs": [],
   "source": [
    "sns.distplot(market_df.Direction == 'Up')"
   ]
  },
  {
   "cell_type": "code",
   "execution_count": null,
   "metadata": {},
   "outputs": [],
   "source": [
    "fig = plt.figure(figsize=(20,4))\n",
    "\n",
    "fig.add_subplot(131)\n",
    "sns.boxplot(x='Direction', y='Lag1', data=market_df)\n",
    "plt.title(\"Yesterday\")\n",
    "\n",
    "fig.add_subplot(132)\n",
    "sns.boxplot(x='Direction', y='Lag2', data=market_df)\n",
    "plt.title(\"Two Days Previous\")\n",
    "\n",
    "fig.add_subplot(133)\n",
    "sns.boxplot(x='Direction', y='Lag3', data=market_df)\n",
    "plt.title(\"Three Days Previous\")\n",
    "\n",
    "print(\"Figure 1.2\")"
   ]
  },
  {
   "cell_type": "markdown",
   "metadata": {},
   "source": [
    "## Gene Expression Data"
   ]
  },
  {
   "cell_type": "markdown",
   "metadata": {},
   "source": [
    "#### Domain \n",
    "\n",
    "This problem is drawn from the analysis of gene expression data. \n",
    "\n",
    "#### Problem Statement\n",
    "\n",
    "Given the expression measurements of 64 cell lines, we wish to project these cell lines into two dimensions and perform an unsupervised cluster analysis in order to identify similar cell lines.\n",
    "\n",
    "#### Dataset and Inputs\n",
    "\n",
    "The dataset to be examined is the `NCI60` dataset, which consists of 6830 gene expression measurements for each of 64 cancer cell lines.\n",
    "\n",
    "#### Solution Statement\n",
    "\n",
    "A solution to this problem will be a cluster analysis using a model such as a KMeans Clustering or a Gaussian Mixture Model. \n",
    "\n",
    "#### Benchmark Model\n",
    "\n",
    "N/A\n",
    "\n",
    "#### Evaluation Metrics\n",
    "\n",
    "Given that this is a clustering task, we can measure the success of our model using the Silhouette Score.\n",
    "\n"
   ]
  },
  {
   "cell_type": "code",
   "execution_count": null,
   "metadata": {},
   "outputs": [],
   "source": [
    "gene_expression_df = pd.read_csv('data/NCI60.csv', index_col='Index')\n",
    "gene_expression_df.sample(4)"
   ]
  },
  {
   "cell_type": "code",
   "execution_count": null,
   "metadata": {},
   "outputs": [],
   "source": [
    "from sklearn.decomposition import PCA\n",
    "\n",
    "number_of_dimensions = 2\n",
    "pca = PCA(n_components=number_of_dimensions)\n",
    "\n",
    "pca.fit(gene_expression_df.drop('labs', axis=1))\n",
    "gene_exp_2d = pca.transform(gene_expression_df.drop('labs', axis=1))"
   ]
  },
  {
   "cell_type": "code",
   "execution_count": null,
   "metadata": {},
   "outputs": [],
   "source": [
    "from sklearn.cluster import KMeans\n",
    "\n",
    "number_of_clusters = [2,3,6,14]\n",
    "\n",
    "fig = plt.figure(figsize=(20,4))\n",
    "\n",
    "for i, clusters in enumerate(number_of_clusters):\n",
    "    fig.add_subplot(101+i+10*len(number_of_clusters))\n",
    "    kmeans = KMeans(n_clusters=clusters)\n",
    "    kmeans.fit(gene_expression_df.drop('labs', axis=1))\n",
    "    labels = ['cluster ' + str(label+1) for label in kmeans.labels_]\n",
    "    ax = sns.swarmplot(x=gene_exp_2d[:,0], y=gene_exp_2d[:,1], hue=labels)\n",
    "    ax.set(xticklabels=[])\n",
    "    ax.set(yticklabels=[])\n",
    "    ax.legend(loc='upper right')\n",
    "    if i == 3: ax.legend_.remove()"
   ]
  },
  {
   "cell_type": "code",
   "execution_count": null,
   "metadata": {},
   "outputs": [],
   "source": []
  }
 ],
 "metadata": {
  "kernelspec": {
   "display_name": "Python 3",
   "language": "python",
   "name": "python3"
  },
  "language_info": {
   "codemirror_mode": {
    "name": "ipython",
    "version": 3
   },
   "file_extension": ".py",
   "mimetype": "text/x-python",
   "name": "python",
   "nbconvert_exporter": "python",
   "pygments_lexer": "ipython3",
   "version": "3.6.4"
  }
 },
 "nbformat": 4,
 "nbformat_minor": 2
}
